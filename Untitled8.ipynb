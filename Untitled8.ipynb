{
  "nbformat": 4,
  "nbformat_minor": 0,
  "metadata": {
    "colab": {
      "provenance": []
    },
    "kernelspec": {
      "name": "python3",
      "display_name": "Python 3"
    },
    "language_info": {
      "name": "python"
    }
  },
  "cells": [
    {
      "cell_type": "code",
      "execution_count": 6,
      "metadata": {
        "colab": {
          "base_uri": "https://localhost:8080/"
        },
        "id": "95u_g0JbUjyt",
        "outputId": "b922f447-223b-4afa-8cf9-00aeda2bc3a0"
      },
      "outputs": [
        {
          "output_type": "stream",
          "name": "stdout",
          "text": [
            "侍太郎\n",
            "侍花子\n"
          ]
        }
      ],
      "source": [
        "#グローバル変数を定義する\n",
        "user_name=\"侍花子\"\n",
        "\n",
        "def show_user_name():\n",
        "  #ローカル変数を定義する\n",
        "  user_name=\"侍太郎\"\n",
        "\n",
        "  #ローカルスコープの範囲内でローカル変数を使う\n",
        "  print(user_name)\n",
        "\n",
        "show_user_name()\n",
        "\n",
        "print(user_name)"
      ]
    },
    {
      "cell_type": "code",
      "source": [
        "price1 = 100\n",
        "price2 = 200\n",
        "\n",
        "tax=1.1\n",
        "\n",
        "def total():\n",
        "\n",
        "    return price1 + price2\n",
        "\n",
        "print (total() * tax)\n"
      ],
      "metadata": {
        "colab": {
          "base_uri": "https://localhost:8080/"
        },
        "id": "LRYVh6osXZ73",
        "outputId": "1112ec7b-13c1-40a1-f026-32081002ed39"
      },
      "execution_count": 9,
      "outputs": [
        {
          "output_type": "stream",
          "name": "stdout",
          "text": [
            "330.0\n"
          ]
        }
      ]
    }
  ]
}